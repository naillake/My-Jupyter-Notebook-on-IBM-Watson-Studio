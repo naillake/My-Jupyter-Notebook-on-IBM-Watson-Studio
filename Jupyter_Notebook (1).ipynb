{
 "cells": [
  {
   "cell_type": "markdown",
   "metadata": {},
   "source": [
    "<center>\n",
    "    <img src=\"https://cf-courses-data.s3.us.cloud-object-storage.appdomain.cloud/IBMDeveloperSkillsNetwork-DS0105EN-SkillsNetwork/labs/Module2/images/SN_web_lightmode.png\" width=\"300\" alt=\"cognitiveclass.ai logo\">\n",
    "</center>\n"
   ]
  },
  {
   "cell_type": "markdown",
   "metadata": {},
   "source": [
    "#### Add your code below following the instructions given in the course\n"
   ]
  },
  {
   "cell_type": "markdown",
   "metadata": {},
   "source": [
    "# \"My Jupyter Notebook on IBM Watson Studio\""
   ]
  },
  {
   "cell_type": "markdown",
   "metadata": {},
   "source": [
    "__Fernanda Wielandt__\n",
    "\n",
    "Biochemist"
   ]
  },
  {
   "cell_type": "markdown",
   "metadata": {},
   "source": [
    "_I am interested in data science because nowadays we have a lot of data and every day we have more, we can do everything with data. I think that it is important to know to deal with data and how we can use for improve business, science or others fields._"
   ]
  },
  {
   "cell_type": "markdown",
   "metadata": {},
   "source": [
    "### My code do a simply equation with using print and f-string"
   ]
  },
  {
   "cell_type": "code",
   "execution_count": 2,
   "metadata": {},
   "outputs": [
    {
     "name": "stdout",
     "output_type": "stream",
     "text": [
      "7 plus 4 is: 11\n"
     ]
    }
   ],
   "source": [
    "value = 7\n",
    "print (f\"{value} plus 4 is: {value + 4}\")"
   ]
  },
  {
   "cell_type": "markdown",
   "metadata": {
    "tags": []
   },
   "source": [
    "# __1. Microorganism__\n",
    "--------\n",
    "2. Table of examples of microorganism\n",
    "\n",
    "⋅ __Table 1: Microorganism used__\n",
    "| Name | Gram | Metabolisms |\n",
    "| -------- | ------- | ----------- |\n",
    "| _Staphylococcus aureus_ | positive | facultative anaerobe |\n",
    "| _Streptococcus pyogenes_ |positive | facultative anaerobe |\n",
    "| _Lactococcus lactis_ | positive | homofermentative |\n",
    "| _Escherichia coli_ | negative | facultative anaerobe |\n",
    "\n",
    "3. Images of microorganism\n",
    "\n",
    "⋅ _Staphylococcus aureus_ \n",
    "\n",
    "![alt text](https://microbitosblogdotcom.files.wordpress.com/2022/02/staphylococcus-sp-fig6-1.jpg?w=300&h=225)\n",
    "\n",
    "⋅ _Streptococcus pyogenes_\n",
    "\n",
    "![alt text](https://upload.wikimedia.org/wikipedia/commons/thumb/e/e4/Streptococcus_pyogenes.jpg/280px-Streptococcus_pyogenes.jpg)\n",
    "\n",
    "⋅ _Lactococcus lactis_\n",
    "\n",
    "![alt text](https://encrypted-tbn0.gstatic.com/images?q=tbn:ANd9GcSDga13yf_aYfBOYiprTpARASemnNRrpxYmJA&usqp=CAU)\n",
    "\n",
    "⋅ _Escherichia coli_\n",
    "\n",
    "![alt text](https://img.medscapestatic.com/pi/meds/ckb/13/37113tn.jpg)"
   ]
  }
 ],
 "metadata": {
  "kernelspec": {
   "display_name": "Python",
   "language": "python",
   "name": "conda-env-python-py"
  },
  "language_info": {
   "codemirror_mode": {
    "name": "ipython",
    "version": 3
   },
   "file_extension": ".py",
   "mimetype": "text/x-python",
   "name": "python",
   "nbconvert_exporter": "python",
   "pygments_lexer": "ipython3",
   "version": "3.7.12"
  }
 },
 "nbformat": 4,
 "nbformat_minor": 4
}
